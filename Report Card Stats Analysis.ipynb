{
 "cells": [
  {
   "cell_type": "code",
   "execution_count": 3,
   "metadata": {
    "collapsed": false
   },
   "outputs": [],
   "source": [
    "import numpy as np\n",
    "import pandas as pd\n",
    "from scipy.stats.mstats import * \n",
    "import powerlaw\n",
    "import matplotlib.pyplot as plt\n",
    "import mpmath\n",
    "import math\n",
    "import seaborn as sns"
   ]
  },
  {
   "cell_type": "code",
   "execution_count": 4,
   "metadata": {
    "collapsed": true
   },
   "outputs": [],
   "source": [
    "data_path = r'/Users/Owner/Documents/Work_transfer/Data/Report Card/'"
   ]
  },
  {
   "cell_type": "code",
   "execution_count": 5,
   "metadata": {
    "collapsed": false
   },
   "outputs": [],
   "source": [
    "depstats = pd.read_csv(data_path+'Department Statistics.csv')\n",
    "indstats = pd.read_csv(data_path+'Anonindstats.csv')"
   ]
  },
  {
   "cell_type": "code",
   "execution_count": 6,
   "metadata": {
    "collapsed": false
   },
   "outputs": [],
   "source": [
    "colleaguedist = indstats.Colleague_count.value_counts()"
   ]
  },
  {
   "cell_type": "code",
   "execution_count": 7,
   "metadata": {
    "collapsed": false
   },
   "outputs": [],
   "source": [
    "plt.plot(colleaguedist)\n",
    "plt.show()"
   ]
  },
  {
   "cell_type": "code",
   "execution_count": 8,
   "metadata": {
    "collapsed": false
   },
   "outputs": [
    {
     "name": "stdout",
     "output_type": "stream",
     "text": [
      "1.71595166694\n",
      "(16.886804509083454, 0.012503716034466275)\n",
      "(-0.013266060078533926, 0.90845103746758671)\n"
     ]
    },
    {
     "name": "stderr",
     "output_type": "stream",
     "text": [
      "Calculating best minimal value for power law fit\n"
     ]
    }
   ],
   "source": [
    "#Again we find that the distribution is either lognormal or powerlaw, but neither is really a better fit\n",
    "colleaguepl = powerlaw.Fit(colleaguedist, discrete=True)\n",
    "print (colleaguepl.power_law.alpha)\n",
    "print (colleaguepl.distribution_compare('power_law', 'exponential'))\n",
    "print (colleaguepl.distribution_compare('power_law', 'lognormal'))"
   ]
  },
  {
   "cell_type": "code",
   "execution_count": 11,
   "metadata": {
    "collapsed": false
   },
   "outputs": [],
   "source": [
    "#The only issue is that I'm highly suspicious that everything here is a bunch of different proxies for involvement\n",
    "#Since they all in essense measure the same thing, this isn't very useful\n",
    "#Conditional probabilities to determine patterns of behaviour\n",
    "con1 = len(indstats[(indstats['About_me'] == 1) & (indstats['Avatar'] == 1)])\n",
    "con2 = len(indstats[indstats['About_me'] == 1])\n",
    "con3 = len(indstats[indstats['Avatar'] == 1])"
   ]
  },
  {
   "cell_type": "code",
   "execution_count": 12,
   "metadata": {
    "collapsed": false
   },
   "outputs": [
    {
     "name": "stdout",
     "output_type": "stream",
     "text": [
      "5173\n",
      "7589\n",
      "14893\n",
      "72814\n"
     ]
    }
   ],
   "source": [
    "print (con1)\n",
    "print (con2)\n",
    "print (con3)\n",
    "print (len(indstats))"
   ]
  },
  {
   "cell_type": "code",
   "execution_count": 23,
   "metadata": {
    "collapsed": false
   },
   "outputs": [
    {
     "name": "stdout",
     "output_type": "stream",
     "text": [
      "The probability that someone filled out their about me profile given they have an avatar is 0.34734438998187067\n",
      "The probability that someone  has an avatar given that they have filled out their about me is 0.6816444854394518\n"
     ]
    }
   ],
   "source": [
    "pab = con1/len(indstats) #Avatar and About me\n",
    "pa = con2/len(indstats) #About me\n",
    "pb = con3/len(indstats) #Avatar\n",
    "\n",
    "agivenb = pab/pb\n",
    "bgivena = pab/pa\n",
    "\n",
    "print (\"The probability that someone filled out their about me profile given they have an avatar is\", agivenb)\n",
    "print (\"The probability that someone  has an avatar given that they have filled out their about me is\", bgivena)\n"
   ]
  },
  {
   "cell_type": "code",
   "execution_count": 22,
   "metadata": {
    "collapsed": false
   },
   "outputs": [
    {
     "name": "stdout",
     "output_type": "stream",
     "text": [
      "Otherwise the probability that they filled out their profile is 0.10422446232867305\n",
      "And the probability that they have a profile picture is 0.2045348422006757\n",
      "The probability that they have both is  0.07104402999423187\n"
     ]
    }
   ],
   "source": [
    "print (\"Otherwise the probability that they filled out their profile is\", pa)\n",
    "print (\"And the probability that they have a profile picture is\",pb)\n",
    "print (\"The probability that they have both is \", pab)"
   ]
  },
  {
   "cell_type": "code",
   "execution_count": 24,
   "metadata": {
    "collapsed": false
   },
   "outputs": [
    {
     "name": "stdout",
     "output_type": "stream",
     "text": [
      "So as you can see, it is 3.3326570578653225 times more likely that they will have filled out their profile\n",
      "If they've already done part of it\n"
     ]
    }
   ],
   "source": [
    "ratio1 = agivenb/pa\n",
    "\n",
    "print (\"So as you can see, it is\", ratio1, \"times more likely that they will have filled out their profile\")\n",
    "print (\"If they've already done part of it\")\n",
    "\n"
   ]
  },
  {
   "cell_type": "code",
   "execution_count": null,
   "metadata": {
    "collapsed": true
   },
   "outputs": [],
   "source": []
  }
 ],
 "metadata": {
  "kernelspec": {
   "display_name": "Python 3",
   "language": "python",
   "name": "python3"
  },
  "language_info": {
   "codemirror_mode": {
    "name": "ipython",
    "version": 3
   },
   "file_extension": ".py",
   "mimetype": "text/x-python",
   "name": "python",
   "nbconvert_exporter": "python",
   "pygments_lexer": "ipython3",
   "version": "3.4.3"
  }
 },
 "nbformat": 4,
 "nbformat_minor": 0
}
