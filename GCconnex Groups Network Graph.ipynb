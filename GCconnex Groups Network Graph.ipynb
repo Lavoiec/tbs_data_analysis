{
 "cells": [
  {
   "cell_type": "code",
   "execution_count": 1,
   "metadata": {
    "collapsed": false
   },
   "outputs": [],
   "source": [
    "import pandas as pd\n",
    "import pylab as pl\n",
    "import numpy as np\n",
    "import matplotlib.pyplot as plt\n",
    "import os\n",
    "import glob\n",
    "import re\n",
    "import networkx as nx\n",
    "import csv\n",
    "import json\n"
   ]
  },
  {
   "cell_type": "code",
   "execution_count": 2,
   "metadata": {
    "collapsed": true
   },
   "outputs": [],
   "source": [
    "data_path = r\"C:/Users/Owner/Documents/Work_transfer/Data/GCconnex_collab/\"\n",
    "group_data_path = r\"C:/Users/Owner/Documents/Work_transfer/Data/GCconnex/\"\n",
    "gephi_path = r\"C:/Users/Owner/Documents/Work_transfer/Gephi/GCconnex/\""
   ]
  },
  {
   "cell_type": "code",
   "execution_count": 3,
   "metadata": {
    "collapsed": false
   },
   "outputs": [],
   "source": [
    "nodes = []\n",
    "edges = []\n",
    "details = {}\n",
    "groups = {}\n"
   ]
  },
  {
   "cell_type": "code",
   "execution_count": 4,
   "metadata": {
    "collapsed": false
   },
   "outputs": [],
   "source": [
    "# Read CSV of UID and names and create nodes for each user\n",
    "\n",
    "with open(os.path.join(data_path+\"gcc_user_info_update_2015-09-03.csv\"), \"r\", encoding=\"latin1\") as f:\n",
    "    reader = csv.reader(f, delimiter=',')\n",
    "    next(reader)\n",
    "\n",
    "    for row in reader:\n",
    "        uid, email, start_date = row\n",
    "        ampersand = email.find(\"@\")\n",
    "        name = email[0:ampersand]\n",
    "        department = email[ampersand + 1:]\n",
    "        details[uid] = {'label':\"\", 'department':department, 'active': \"\", 'end': '01-09-2015', 'start': start_date}\n"
   ]
  },
  {
   "cell_type": "code",
   "execution_count": 5,
   "metadata": {
    "collapsed": false
   },
   "outputs": [],
   "source": [
    "# Get group names\n",
    "with open(os.path.join(group_data_path, \"gcconnex_group_info.csv\"), \"r+\", encoding=\"latin1\") as f:\n",
    "    reader = csv.reader(f, delimiter=\",\")\n",
    "    next(reader)\n",
    "    \n",
    "    for row in reader:\n",
    "        group_id, name, created, last_active, owner = row\n",
    "        groups[group_id] = name\n",
    "        details[group_id] = {'label':name, 'department':'group', 'active': last_active, 'end': '01-09-2015', 'start': created}\n",
    "        edges.append([group_id, owner])\n",
    "        \n",
    "# Get group membership and associations\n",
    "with open(os.path.join(group_data_path, \"gcconnex_group_members.csv\"), \"r+\", encoding=\"latin1\") as f:\n",
    "    reader = csv.reader(f, delimiter=\",\")\n",
    "    next(reader)\n",
    "    \n",
    "    for row in reader:\n",
    "        uid, group_id, date = row\n",
    "        edges.append([uid, group_id])\n",
    "        "
   ]
  },
  {
   "cell_type": "code",
   "execution_count": null,
   "metadata": {
    "collapsed": false
   },
   "outputs": [],
   "source": []
  },
  {
   "cell_type": "code",
   "execution_count": 6,
   "metadata": {
    "collapsed": false
   },
   "outputs": [],
   "source": [
    "G=nx.DiGraph()"
   ]
  },
  {
   "cell_type": "code",
   "execution_count": 7,
   "metadata": {
    "collapsed": false
   },
   "outputs": [],
   "source": [
    "for k,v in details.items():\n",
    "    G.add_node(k, label=v['label'], department=v['department'], activity=v['active'], start=v['start'], end=v['end'])\n",
    "    \n",
    "for link in edges:\n",
    "    G.add_edge(link[0], link[1])"
   ]
  },
  {
   "cell_type": "code",
   "execution_count": null,
   "metadata": {
    "collapsed": false
   },
   "outputs": [],
   "source": []
  },
  {
   "cell_type": "code",
   "execution_count": null,
   "metadata": {
    "collapsed": false
   },
   "outputs": [],
   "source": []
  },
  {
   "cell_type": "code",
   "execution_count": null,
   "metadata": {
    "collapsed": false
   },
   "outputs": [],
   "source": []
  },
  {
   "cell_type": "code",
   "execution_count": null,
   "metadata": {
    "collapsed": true
   },
   "outputs": [],
   "source": []
  },
  {
   "cell_type": "code",
   "execution_count": null,
   "metadata": {
    "collapsed": false
   },
   "outputs": [],
   "source": []
  },
  {
   "cell_type": "code",
   "execution_count": 8,
   "metadata": {
    "collapsed": true
   },
   "outputs": [],
   "source": [
    "# Write to Graphml format\n",
    "nx.write_graphml(G,os.path.join(gephi_path,\"GCconnex_groups_2015_09_17.graphml\"))"
   ]
  },
  {
   "cell_type": "markdown",
   "metadata": {
    "collapsed": true
   },
   "source": [
    "### Now open up Gephi and play with your data!"
   ]
  },
  {
   "cell_type": "code",
   "execution_count": null,
   "metadata": {
    "collapsed": true
   },
   "outputs": [],
   "source": []
  }
 ],
 "metadata": {
  "kernelspec": {
   "display_name": "Python 3",
   "language": "python",
   "name": "python3"
  },
  "language_info": {
   "codemirror_mode": {
    "name": "ipython",
    "version": 3
   },
   "file_extension": ".py",
   "mimetype": "text/x-python",
   "name": "python",
   "nbconvert_exporter": "python",
   "pygments_lexer": "ipython3",
   "version": "3.4.3"
  }
 },
 "nbformat": 4,
 "nbformat_minor": 0
}
